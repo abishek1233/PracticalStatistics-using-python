{
 "cells": [
  {
   "cell_type": "markdown",
   "metadata": {},
   "source": [
    "# Data and Samppling Distributions."
   ]
  },
  {
   "cell_type": "code",
   "execution_count": 48,
   "metadata": {},
   "outputs": [],
   "source": [
    "import pandas as pd\n",
    "import numpy as np\n",
    "import matplotlib.pyplot as plt\n",
    "from sklearn.utils import *\n",
    "import scipy.stats as st"
   ]
  },
  {
   "cell_type": "code",
   "execution_count": 26,
   "metadata": {},
   "outputs": [],
   "source": [
    "# data\n",
    "player_data = pd.read_csv(\"nfl-big-data-bowl-2022/players.csv\")"
   ]
  },
  {
   "cell_type": "markdown",
   "metadata": {},
   "source": [
    "## Random Sampling"
   ]
  },
  {
   "cell_type": "markdown",
   "metadata": {},
   "source": [
    "#### Sample, A subset from a larger data set.\n",
    "#### Population, The larger data set or idea of a data set.\n",
    "#### N(n), The size of the population (sample).\n",
    "#### Random Sampling, Drawing elements into a sample at random.\n",
    "#### Stratified Sampling, Dividing the population into strata and randomly sampling from each strata.\n",
    "#### Stratum, A homogeneous subgroup of a population with common characteristics.\n",
    "#### Simple Random Sample, The sample that results from random sampling without stratifying the population.\n",
    "#### Bias, Systematic error.\n",
    "#### Sample Bias, A sample that misrepresents the population."
   ]
  },
  {
   "cell_type": "markdown",
   "metadata": {},
   "source": [
    "## Selection Bias"
   ]
  },
  {
   "cell_type": "markdown",
   "metadata": {},
   "source": [
    "#### Selection Bias, Bias resulting from the way in which observations are selected.\n",
    "#### Data Snooping, Extensive hunting through data in search of something interesting.\n",
    "#### Vast search effect, Bias or nonreproducibility resulting from repeated data modeling, or modeling data with large numbers of predictor variables."
   ]
  },
  {
   "cell_type": "markdown",
   "metadata": {},
   "source": []
  },
  {
   "cell_type": "markdown",
   "metadata": {},
   "source": [
    "# Sampling Distribution of a Statistic."
   ]
  },
  {
   "cell_type": "code",
   "execution_count": 27,
   "metadata": {},
   "outputs": [],
   "source": [
    "player_data[\"height_inches\"] = player_data.height.apply(lambda x: int(x.split(\"-\")[0])*12 + int(x.split(\"-\")[1]) if \"-\" in x else int(x))"
   ]
  },
  {
   "cell_type": "code",
   "execution_count": 29,
   "metadata": {},
   "outputs": [
    {
     "data": {
      "image/png": "[encoded data removed]",
      "text/plain": [
       "<Figure size 432x288 with 1 Axes>"
      ]
     },
     "metadata": {
      "needs_background": "light"
     },
     "output_type": "display_data"
    }
   ],
   "source": [
    "# Central Limit Theorem. The tendency of the sampling distribution to take on a normal shape as sample size rises.\n",
    "sample_amount = range(10,100,20)\n",
    "for x in sample_amount:\n",
    "    samples = []\n",
    "    for i in range(1000):# 1000 refers to the number of times we will find the mean for the sample.\n",
    "        samples.append(player_data[\"height_inches\"].sample(x).mean())\n",
    "    plt.hist(samples)\n",
    "    plt.legend([str(z) + \" samples\" for z in sample_amount])\n",
    "    plt.title(\"Central Limit Theorem\")"
   ]
  },
  {
   "cell_type": "code",
   "execution_count": 30,
   "metadata": {},
   "outputs": [
    {
     "data": {
      "text/plain": [
       "0.05065243293253027"
      ]
     },
     "execution_count": 30,
     "metadata": {},
     "output_type": "execute_result"
    }
   ],
   "source": [
    "# standard error, The variability (standard deviation) of a sample statistic over many samples (not to be confused with standard deviation, which by itself, refers to variability of individual data values).\n",
    "player_data[\"height_inches\"].sem()"
   ]
  },
  {
   "cell_type": "markdown",
   "metadata": {},
   "source": [
    "## Boot Strapping"
   ]
  },
  {
   "cell_type": "markdown",
   "metadata": {},
   "source": [
    "#### A sample taken with replacement from an observed data set.\n"
   ]
  },
  {
   "cell_type": "code",
   "execution_count": 47,
   "metadata": {},
   "outputs": [
    {
     "name": "stdout",
     "output_type": "stream",
     "text": [
      "BootStrap Statistics\n",
      "Original:74.0106149341142\n",
      "Bias:-0.00016691068813656784\n",
      "Std.Error:0.052052968754832084\n"
     ]
    }
   ],
   "source": [
    "results = []\n",
    "for nrepeat in range(1000):\n",
    "    sample = resample(player_data[\"height_inches\"])\n",
    "    results.append(sample.mean())\n",
    "results = pd.Series(results)\n",
    "print(\"BootStrap Statistics\")\n",
    "print(\"Original:\" + str(player_data[\"height_inches\"].mean()))\n",
    "print(\"Bias:\" + str(results.mean()-player_data[\"height_inches\"].mean()))\n",
    "print(\"Std.Error:\" + str(results.std()))"
   ]
  },
  {
   "cell_type": "markdown",
   "metadata": {},
   "source": [
    "## Confidence Interval"
   ]
  },
  {
   "cell_type": "code",
   "execution_count": 51,
   "metadata": {},
   "outputs": [
    {
     "data": {
      "text/plain": [
       "(71.9517311015031, 74.34826889849691)"
      ]
     },
     "execution_count": 51,
     "metadata": {},
     "output_type": "execute_result"
    }
   ],
   "source": [
    "# Confidence level, The percentage of confidence intervals, constructed in the same way from the same population, that are expected to contain the statistic of interest.\n",
    "# If we have fewer than 30 items in our sample then we can use the t-distribution.\n",
    "data = player_data[\"height_inches\"].sample(20)\n",
    "st.t.interval(alpha=0.95,df=len(data)-1, loc= np.mean(data), scale= st.sem(data))"
   ]
  },
  {
   "cell_type": "code",
   "execution_count": 52,
   "metadata": {},
   "outputs": [
    {
     "data": {
      "text/plain": [
       "(73.92590128473445, 74.19009871526556)"
      ]
     },
     "execution_count": 52,
     "metadata": {},
     "output_type": "execute_result"
    }
   ],
   "source": [
    "# otherwise we can use the normal distribution as we can assume the sample mean is normally distributed.\n",
    "np.random.seed(0)\n",
    "data = player_data[\"height_inches\"].sample(1500)\n",
    "st.norm.interval(alpha=0.95, loc= np.mean(data), scale= st.sem(data))"
   ]
  },
  {
   "cell_type": "markdown",
   "metadata": {},
   "source": [
    "## Normal and Gaussian Distribution"
   ]
  },
  {
   "cell_type": "markdown",
   "metadata": {},
   "source": [
    "### Error\n",
    "#### The difference between a data point and a predicted or average value.\n",
    "### Standardize\n",
    "#### Subtract the mean and divide by the standard deviation.\n",
    "### z-score\n",
    "#### The result of standardizing an individual data point.\n",
    "### Standard normal\n",
    "#### A normal distribution with mean = 0 and standard deviation = 1.\n",
    "### QQ-Plot\n",
    "#### A plot to visualize how close a sample distribution is to a specified distribution, e.g., the normal distribution."
   ]
  },
  {
   "cell_type": "code",
   "execution_count": 55,
   "metadata": {},
   "outputs": [
    {
     "data": {
      "image/png": "[encoded data removed]",
      "text/plain": [
       "<Figure size 288x288 with 1 Axes>"
      ]
     },
     "metadata": {
      "needs_background": "light"
     },
     "output_type": "display_data"
    }
   ],
   "source": [
    "# qq-plot , quantile quantile distribution.\n",
    "fig, ax = plt.subplots(figsize= (4,4))\n",
    "nor_sample = player_data[\"height_inches\"].sample(1000)\n",
    "st.probplot(nor_sample, plot = ax)\n",
    "plt.show()"
   ]
  },
  {
   "cell_type": "markdown",
   "metadata": {},
   "source": [
    "### Long Tailed Distributions"
   ]
  },
  {
   "cell_type": "code",
   "execution_count": 56,
   "metadata": {},
   "outputs": [],
   "source": [
    "# Tail, The long narrow portion of a frequency distribution, where relatively extreme values occur at low frequency.\n",
    "# Skew, Where one tail of a distribution is longer than the other."
   ]
  },
  {
   "cell_type": "markdown",
   "metadata": {},
   "source": [
    "### Binomial Distribution"
   ]
  },
  {
   "cell_type": "code",
   "execution_count": 62,
   "metadata": {},
   "outputs": [
    {
     "data": {
      "text/plain": [
       "0.0729"
      ]
     },
     "execution_count": 62,
     "metadata": {},
     "output_type": "execute_result"
    }
   ],
   "source": [
    "# PMF, tells us the probablity that an event will happen a certain number of times given a certain number of samples and probailities for success.\n",
    "st.binom.pmf(2, n=5, p=0.1) #(number of successes we like, number of trials conducted, probability of success in each trial)"
   ]
  },
  {
   "cell_type": "code",
   "execution_count": 61,
   "metadata": {},
   "outputs": [
    {
     "data": {
      "text/plain": [
       "0.99144"
      ]
     },
     "execution_count": 61,
     "metadata": {},
     "output_type": "execute_result"
    }
   ],
   "source": [
    "# CDF tells us the probability that an event will happend a certain number of fewer times.\n",
    "st.binom.cdf(2, n=5, p=0.1)"
   ]
  },
  {
   "cell_type": "markdown",
   "metadata": {},
   "source": [
    "### Poisson Distribution"
   ]
  },
  {
   "cell_type": "code",
   "execution_count": 65,
   "metadata": {},
   "outputs": [
    {
     "data": {
      "text/plain": [
       "102"
      ]
     },
     "execution_count": 65,
     "metadata": {},
     "output_type": "execute_result"
    }
   ],
   "source": [
    "# Lambda, The rate (per unit of time or space) at which events occur.\n",
    "# Poisson Distribution, The frequency distribution of the number of events in sampled units of time or space\n",
    "# An example of this would be stimulating the number of calls received by a call center each minute of a 100 minute interval if we know that the center receives about 2 calls per minute.\n",
    "st.poisson.rvs(2, 100) # lambda is 2"
   ]
  },
  {
   "cell_type": "markdown",
   "metadata": {},
   "source": [
    "### Exponential Distribution"
   ]
  },
  {
   "cell_type": "code",
   "execution_count": 66,
   "metadata": {},
   "outputs": [
    {
     "data": {
      "text/plain": [
       "13.222420303557243"
      ]
     },
     "execution_count": 66,
     "metadata": {},
     "output_type": "execute_result"
    }
   ],
   "source": [
    "# Exponential Distribution, The frequency distribution of the time or distance from one event to the next event.\n",
    "st.expon.rvs(0.2,100)"
   ]
  },
  {
   "cell_type": "markdown",
   "metadata": {},
   "source": [
    "### Weibull Distribution"
   ]
  },
  {
   "cell_type": "code",
   "execution_count": 68,
   "metadata": {},
   "outputs": [
    {
     "data": {
      "text/plain": [
       "array([  313.23517778,  1450.91335689,  2979.47665807,  7357.82851806,\n",
       "        2543.67970006,   763.01943274,  3048.17634019,  2119.99801432,\n",
       "         746.53491062,  3187.63106078,  2861.60656758,  6027.72972224,\n",
       "         810.71928248,  3050.3697838 ,  2800.64044041,  5135.03156871,\n",
       "        8428.31751148,  1438.4369888 ,  7105.80109976,  4801.0052802 ,\n",
       "         479.2926205 ,  6423.79701978,  4205.97212273,  6865.76297808,\n",
       "        3256.89779201,  5312.26334655,  1831.25319564,  1783.29943016,\n",
       "        2785.93991128,  4064.0775593 ,  5834.85662454,  5324.86830097,\n",
       "        7184.14755474,  3380.06361505,  9053.33194424,  1186.51437008,\n",
       "        1751.19135562,  5491.82891254,  2204.32971019,  1593.00362386,\n",
       "        8395.80360308,   856.13200923, 14156.93201989,  7896.6898855 ,\n",
       "        8008.03594984,  4969.21957619,  2009.07511904,  6839.73542586,\n",
       "         725.76626016,  4565.58917285,  3470.6831111 ,  6221.28727539,\n",
       "         416.65385051,  3103.60577113,  3745.51564366,  1505.96777773,\n",
       "        3297.8607261 ,  8995.8104908 ,  3683.44555966,  2190.89566767,\n",
       "        4164.02771416,   789.73376439,  2476.2180121 ,  6641.22688778,\n",
       "        5089.54294768,   419.21363381,  4464.32465289,  1958.00932047,\n",
       "       12002.72611254,  6641.8987283 ,  1327.86937686,  3095.0543253 ,\n",
       "        3840.92624305,  1717.64778204,  5703.64688285,  7511.20563733,\n",
       "         135.77055622,  1367.12439496,  2403.710032  , 12895.82011675,\n",
       "        3226.61434937,  1632.91130928,  1275.78395795,  8753.04142152,\n",
       "        7015.52631035,  4885.15535832,  4221.77423054,  6555.56060829,\n",
       "        2636.7076572 ,  5070.57685768,  6062.15675607,  4511.86380532,\n",
       "        1622.21836331, 13143.37547377,  7029.66499912,  3845.82925072,\n",
       "        4891.08990551,  6338.80170839,  3610.32137918,  6088.36409493])"
      ]
     },
     "execution_count": 68,
     "metadata": {},
     "output_type": "execute_result"
    }
   ],
   "source": [
    "# weibull distribution, A generalized version of the exponential distribution in which the event rate is allowed to shift over time.\n",
    "st.weibull_min.rvs(1.5,scale=5000, size=100)\n",
    "# this code simulates 100 lifetimes with a shape of 1.5 and a characteristic life of 5000."
   ]
  },
  {
   "cell_type": "code",
   "execution_count": null,
   "metadata": {},
   "outputs": [],
   "source": []
  }
 ],
 "metadata": {
  "interpreter": {
   "hash": "082e9a3bcad0a290d0001e938aa60b99250c6c2ef33a923c00b70f9826caf4b7"
  },
  "kernelspec": {
   "display_name": "",
   "language": "python",
   "name": "python3"
  },
  "language_info": {
   "codemirror_mode": {
    "name": "ipython",
    "version": 3
   },
   "file_extension": ".py",
   "mimetype": "text/x-python",
   "name": "python",
   "nbconvert_exporter": "python",
   "pygments_lexer": "ipython3",
   "version": "3.8.5"
  },
  "orig_nbformat": 4
 },
 "nbformat": 4,
 "nbformat_minor": 2
}
